{
 "cells": [
  {
   "cell_type": "markdown",
   "metadata": {
    "colab_type": "text",
    "id": "YGrsxK741Nio"
   },
   "source": [
    "# LightGBM Classifier - Fraud Detection"
   ]
  },
  {
   "cell_type": "markdown",
   "metadata": {},
   "source": [
    "<img src=\"images/frauddetection.jpg\"/>"
   ]
  },
  {
   "cell_type": "markdown",
   "metadata": {},
   "source": [
    "Data source: https://www.kaggle.com/c/ieee-fraud-detection/data"
   ]
  },
  {
   "cell_type": "markdown",
   "metadata": {},
   "source": [
    "The data is broken into two files 'identity' and 'transaction', which are joined by 'TransactionID'. Not all transactions have corresponding identity information.\n",
    "\n",
    "Categorical Features - Transaction\n",
    "\n",
    "* ProductCD\n",
    "* card1 - card6\n",
    "* addr1, addr2\n",
    "* P_emaildomain\n",
    "* R_emaildomain\n",
    "* M1 - M9\n",
    "\n",
    "Categorical Features - Identity\n",
    "\n",
    "* DeviceType\n",
    "* DeviceInfo\n",
    "* id_12 - id_38\n",
    "\n",
    "The TransactionDT feature is a timedelta from a given reference datetime (not an actual timestamp)."
   ]
  },
  {
   "cell_type": "markdown",
   "metadata": {},
   "source": [
    "### General Libraries"
   ]
  },
  {
   "cell_type": "code",
   "execution_count": 1,
   "metadata": {},
   "outputs": [],
   "source": [
    "import pandas as pd\n",
    "import dask.dataframe as dd\n",
    "\n",
    "import warnings\n",
    "warnings.filterwarnings(\"ignore\")"
   ]
  },
  {
   "cell_type": "markdown",
   "metadata": {},
   "source": [
    "### Load the Data"
   ]
  },
  {
   "cell_type": "code",
   "execution_count": 2,
   "metadata": {
    "colab": {},
    "colab_type": "code",
    "id": "SP3Zn0RB1Ni3"
   },
   "outputs": [
    {
     "data": {
      "text/html": [
       "<div>\n",
       "<style scoped>\n",
       "    .dataframe tbody tr th:only-of-type {\n",
       "        vertical-align: middle;\n",
       "    }\n",
       "\n",
       "    .dataframe tbody tr th {\n",
       "        vertical-align: top;\n",
       "    }\n",
       "\n",
       "    .dataframe thead th {\n",
       "        text-align: right;\n",
       "    }\n",
       "</style>\n",
       "<table border=\"1\" class=\"dataframe\">\n",
       "  <thead>\n",
       "    <tr style=\"text-align: right;\">\n",
       "      <th></th>\n",
       "      <th>TransactionID</th>\n",
       "      <th>isFraud</th>\n",
       "      <th>TransactionDT</th>\n",
       "      <th>TransactionAmt</th>\n",
       "      <th>ProductCD</th>\n",
       "      <th>card1</th>\n",
       "      <th>card2</th>\n",
       "      <th>card3</th>\n",
       "      <th>card4</th>\n",
       "      <th>card5</th>\n",
       "      <th>...</th>\n",
       "      <th>V330</th>\n",
       "      <th>V331</th>\n",
       "      <th>V332</th>\n",
       "      <th>V333</th>\n",
       "      <th>V334</th>\n",
       "      <th>V335</th>\n",
       "      <th>V336</th>\n",
       "      <th>V337</th>\n",
       "      <th>V338</th>\n",
       "      <th>V339</th>\n",
       "    </tr>\n",
       "  </thead>\n",
       "  <tbody>\n",
       "    <tr>\n",
       "      <th>0</th>\n",
       "      <td>2987000</td>\n",
       "      <td>0</td>\n",
       "      <td>86400</td>\n",
       "      <td>68.5</td>\n",
       "      <td>W</td>\n",
       "      <td>13926</td>\n",
       "      <td>NaN</td>\n",
       "      <td>150.0</td>\n",
       "      <td>discover</td>\n",
       "      <td>142.0</td>\n",
       "      <td>...</td>\n",
       "      <td>NaN</td>\n",
       "      <td>NaN</td>\n",
       "      <td>NaN</td>\n",
       "      <td>NaN</td>\n",
       "      <td>NaN</td>\n",
       "      <td>NaN</td>\n",
       "      <td>NaN</td>\n",
       "      <td>NaN</td>\n",
       "      <td>NaN</td>\n",
       "      <td>NaN</td>\n",
       "    </tr>\n",
       "    <tr>\n",
       "      <th>1</th>\n",
       "      <td>2987001</td>\n",
       "      <td>0</td>\n",
       "      <td>86401</td>\n",
       "      <td>29.0</td>\n",
       "      <td>W</td>\n",
       "      <td>2755</td>\n",
       "      <td>404.0</td>\n",
       "      <td>150.0</td>\n",
       "      <td>mastercard</td>\n",
       "      <td>102.0</td>\n",
       "      <td>...</td>\n",
       "      <td>NaN</td>\n",
       "      <td>NaN</td>\n",
       "      <td>NaN</td>\n",
       "      <td>NaN</td>\n",
       "      <td>NaN</td>\n",
       "      <td>NaN</td>\n",
       "      <td>NaN</td>\n",
       "      <td>NaN</td>\n",
       "      <td>NaN</td>\n",
       "      <td>NaN</td>\n",
       "    </tr>\n",
       "    <tr>\n",
       "      <th>2</th>\n",
       "      <td>2987002</td>\n",
       "      <td>0</td>\n",
       "      <td>86469</td>\n",
       "      <td>59.0</td>\n",
       "      <td>W</td>\n",
       "      <td>4663</td>\n",
       "      <td>490.0</td>\n",
       "      <td>150.0</td>\n",
       "      <td>visa</td>\n",
       "      <td>166.0</td>\n",
       "      <td>...</td>\n",
       "      <td>NaN</td>\n",
       "      <td>NaN</td>\n",
       "      <td>NaN</td>\n",
       "      <td>NaN</td>\n",
       "      <td>NaN</td>\n",
       "      <td>NaN</td>\n",
       "      <td>NaN</td>\n",
       "      <td>NaN</td>\n",
       "      <td>NaN</td>\n",
       "      <td>NaN</td>\n",
       "    </tr>\n",
       "    <tr>\n",
       "      <th>3</th>\n",
       "      <td>2987003</td>\n",
       "      <td>0</td>\n",
       "      <td>86499</td>\n",
       "      <td>50.0</td>\n",
       "      <td>W</td>\n",
       "      <td>18132</td>\n",
       "      <td>567.0</td>\n",
       "      <td>150.0</td>\n",
       "      <td>mastercard</td>\n",
       "      <td>117.0</td>\n",
       "      <td>...</td>\n",
       "      <td>NaN</td>\n",
       "      <td>NaN</td>\n",
       "      <td>NaN</td>\n",
       "      <td>NaN</td>\n",
       "      <td>NaN</td>\n",
       "      <td>NaN</td>\n",
       "      <td>NaN</td>\n",
       "      <td>NaN</td>\n",
       "      <td>NaN</td>\n",
       "      <td>NaN</td>\n",
       "    </tr>\n",
       "    <tr>\n",
       "      <th>4</th>\n",
       "      <td>2987004</td>\n",
       "      <td>0</td>\n",
       "      <td>86506</td>\n",
       "      <td>50.0</td>\n",
       "      <td>H</td>\n",
       "      <td>4497</td>\n",
       "      <td>514.0</td>\n",
       "      <td>150.0</td>\n",
       "      <td>mastercard</td>\n",
       "      <td>102.0</td>\n",
       "      <td>...</td>\n",
       "      <td>0.0</td>\n",
       "      <td>0.0</td>\n",
       "      <td>0.0</td>\n",
       "      <td>0.0</td>\n",
       "      <td>0.0</td>\n",
       "      <td>0.0</td>\n",
       "      <td>0.0</td>\n",
       "      <td>0.0</td>\n",
       "      <td>0.0</td>\n",
       "      <td>0.0</td>\n",
       "    </tr>\n",
       "  </tbody>\n",
       "</table>\n",
       "<p>5 rows × 394 columns</p>\n",
       "</div>"
      ],
      "text/plain": [
       "   TransactionID  isFraud  TransactionDT  TransactionAmt ProductCD  card1  \\\n",
       "0        2987000        0          86400            68.5         W  13926   \n",
       "1        2987001        0          86401            29.0         W   2755   \n",
       "2        2987002        0          86469            59.0         W   4663   \n",
       "3        2987003        0          86499            50.0         W  18132   \n",
       "4        2987004        0          86506            50.0         H   4497   \n",
       "\n",
       "   card2  card3       card4  card5  ... V330  V331  V332  V333  V334 V335  \\\n",
       "0    NaN  150.0    discover  142.0  ...  NaN   NaN   NaN   NaN   NaN  NaN   \n",
       "1  404.0  150.0  mastercard  102.0  ...  NaN   NaN   NaN   NaN   NaN  NaN   \n",
       "2  490.0  150.0        visa  166.0  ...  NaN   NaN   NaN   NaN   NaN  NaN   \n",
       "3  567.0  150.0  mastercard  117.0  ...  NaN   NaN   NaN   NaN   NaN  NaN   \n",
       "4  514.0  150.0  mastercard  102.0  ...  0.0   0.0   0.0   0.0   0.0  0.0   \n",
       "\n",
       "  V336  V337  V338  V339  \n",
       "0  NaN   NaN   NaN   NaN  \n",
       "1  NaN   NaN   NaN   NaN  \n",
       "2  NaN   NaN   NaN   NaN  \n",
       "3  NaN   NaN   NaN   NaN  \n",
       "4  0.0   0.0   0.0   0.0  \n",
       "\n",
       "[5 rows x 394 columns]"
      ]
     },
     "execution_count": 2,
     "metadata": {},
     "output_type": "execute_result"
    }
   ],
   "source": [
    "transaction = dd.read_csv(\"data/train_transaction.csv\")\n",
    "\n",
    "transaction.head()"
   ]
  },
  {
   "cell_type": "code",
   "execution_count": 3,
   "metadata": {},
   "outputs": [
    {
     "data": {
      "text/plain": [
       "TransactionID       int64\n",
       "isFraud             int64\n",
       "TransactionDT       int64\n",
       "TransactionAmt    float64\n",
       "ProductCD          object\n",
       "                   ...   \n",
       "V335              float64\n",
       "V336              float64\n",
       "V337              float64\n",
       "V338              float64\n",
       "V339              float64\n",
       "Length: 394, dtype: object"
      ]
     },
     "execution_count": 3,
     "metadata": {},
     "output_type": "execute_result"
    }
   ],
   "source": [
    "# Let's see the types of values\n",
    "transaction.dtypes"
   ]
  },
  {
   "cell_type": "markdown",
   "metadata": {},
   "source": [
    "### Data Mining"
   ]
  },
  {
   "cell_type": "code",
   "execution_count": 4,
   "metadata": {
    "colab": {},
    "colab_type": "code",
    "id": "Jt95d-WCymQH"
   },
   "outputs": [],
   "source": [
    "# Select some columns to use as a training data\n",
    "\n",
    "transaction = transaction[['isFraud','TransactionAmt','ProductCD','card1','card2','card3','card4','card5','card6',\n",
    "                           'addr1','addr2','dist1','dist2','P_emaildomain','R_emaildomain','C1','C2','C3','C4','C5',\n",
    "                           'C6','C7','C8','C9','C10','C11','C12','C13','C14','D1','D2','D3','D4','D5','D6','D7','D8',\n",
    "                           'D9','D10','D11','D12','D13','D14','D15']].compute()"
   ]
  },
  {
   "cell_type": "code",
   "execution_count": 5,
   "metadata": {},
   "outputs": [
    {
     "data": {
      "text/plain": [
       "isFraud             int64\n",
       "TransactionAmt    float64\n",
       "ProductCD          object\n",
       "card1               int64\n",
       "card2             float64\n",
       "card3             float64\n",
       "card4              object\n",
       "card5             float64\n",
       "card6              object\n",
       "addr1             float64\n",
       "addr2             float64\n",
       "dist1             float64\n",
       "dist2             float64\n",
       "P_emaildomain      object\n",
       "R_emaildomain      object\n",
       "C1                float64\n",
       "C2                float64\n",
       "C3                float64\n",
       "C4                float64\n",
       "C5                float64\n",
       "C6                float64\n",
       "C7                float64\n",
       "C8                float64\n",
       "C9                float64\n",
       "C10               float64\n",
       "C11               float64\n",
       "C12               float64\n",
       "C13               float64\n",
       "C14               float64\n",
       "D1                float64\n",
       "D2                float64\n",
       "D3                float64\n",
       "D4                float64\n",
       "D5                float64\n",
       "D6                float64\n",
       "D7                float64\n",
       "D8                float64\n",
       "D9                float64\n",
       "D10               float64\n",
       "D11               float64\n",
       "D12               float64\n",
       "D13               float64\n",
       "D14               float64\n",
       "D15               float64\n",
       "dtype: object"
      ]
     },
     "execution_count": 5,
     "metadata": {},
     "output_type": "execute_result"
    }
   ],
   "source": [
    "transaction.dtypes"
   ]
  },
  {
   "cell_type": "code",
   "execution_count": 6,
   "metadata": {},
   "outputs": [],
   "source": [
    "# Select the categorical features\n",
    "categorical_features = ['ProductCD','card4','card6','P_emaildomain','R_emaildomain']"
   ]
  },
  {
   "cell_type": "code",
   "execution_count": 7,
   "metadata": {
    "colab": {
     "base_uri": "https://localhost:8080/",
     "height": 224
    },
    "colab_type": "code",
    "id": "gx-OrDyTtHCp",
    "outputId": "3a55625e-027f-4863-fe1f-01ce295378c7"
   },
   "outputs": [
    {
     "data": {
      "text/html": [
       "<div>\n",
       "<style scoped>\n",
       "    .dataframe tbody tr th:only-of-type {\n",
       "        vertical-align: middle;\n",
       "    }\n",
       "\n",
       "    .dataframe tbody tr th {\n",
       "        vertical-align: top;\n",
       "    }\n",
       "\n",
       "    .dataframe thead th {\n",
       "        text-align: right;\n",
       "    }\n",
       "</style>\n",
       "<table border=\"1\" class=\"dataframe\">\n",
       "  <thead>\n",
       "    <tr style=\"text-align: right;\">\n",
       "      <th></th>\n",
       "      <th>isFraud</th>\n",
       "      <th>TransactionAmt</th>\n",
       "      <th>ProductCD</th>\n",
       "      <th>card1</th>\n",
       "      <th>card2</th>\n",
       "      <th>card3</th>\n",
       "      <th>card4</th>\n",
       "      <th>card5</th>\n",
       "      <th>card6</th>\n",
       "      <th>addr1</th>\n",
       "      <th>...</th>\n",
       "      <th>D6</th>\n",
       "      <th>D7</th>\n",
       "      <th>D8</th>\n",
       "      <th>D9</th>\n",
       "      <th>D10</th>\n",
       "      <th>D11</th>\n",
       "      <th>D12</th>\n",
       "      <th>D13</th>\n",
       "      <th>D14</th>\n",
       "      <th>D15</th>\n",
       "    </tr>\n",
       "  </thead>\n",
       "  <tbody>\n",
       "    <tr>\n",
       "      <th>0</th>\n",
       "      <td>0</td>\n",
       "      <td>68.5</td>\n",
       "      <td>1.0</td>\n",
       "      <td>13926</td>\n",
       "      <td>NaN</td>\n",
       "      <td>150.0</td>\n",
       "      <td>1.0</td>\n",
       "      <td>142.0</td>\n",
       "      <td>1.0</td>\n",
       "      <td>315.0</td>\n",
       "      <td>...</td>\n",
       "      <td>NaN</td>\n",
       "      <td>NaN</td>\n",
       "      <td>NaN</td>\n",
       "      <td>NaN</td>\n",
       "      <td>13.0</td>\n",
       "      <td>13.0</td>\n",
       "      <td>NaN</td>\n",
       "      <td>NaN</td>\n",
       "      <td>NaN</td>\n",
       "      <td>0.0</td>\n",
       "    </tr>\n",
       "    <tr>\n",
       "      <th>1</th>\n",
       "      <td>0</td>\n",
       "      <td>29.0</td>\n",
       "      <td>1.0</td>\n",
       "      <td>2755</td>\n",
       "      <td>404.0</td>\n",
       "      <td>150.0</td>\n",
       "      <td>2.0</td>\n",
       "      <td>102.0</td>\n",
       "      <td>1.0</td>\n",
       "      <td>325.0</td>\n",
       "      <td>...</td>\n",
       "      <td>NaN</td>\n",
       "      <td>NaN</td>\n",
       "      <td>NaN</td>\n",
       "      <td>NaN</td>\n",
       "      <td>0.0</td>\n",
       "      <td>NaN</td>\n",
       "      <td>NaN</td>\n",
       "      <td>NaN</td>\n",
       "      <td>NaN</td>\n",
       "      <td>0.0</td>\n",
       "    </tr>\n",
       "    <tr>\n",
       "      <th>2</th>\n",
       "      <td>0</td>\n",
       "      <td>59.0</td>\n",
       "      <td>1.0</td>\n",
       "      <td>4663</td>\n",
       "      <td>490.0</td>\n",
       "      <td>150.0</td>\n",
       "      <td>3.0</td>\n",
       "      <td>166.0</td>\n",
       "      <td>2.0</td>\n",
       "      <td>330.0</td>\n",
       "      <td>...</td>\n",
       "      <td>NaN</td>\n",
       "      <td>NaN</td>\n",
       "      <td>NaN</td>\n",
       "      <td>NaN</td>\n",
       "      <td>0.0</td>\n",
       "      <td>315.0</td>\n",
       "      <td>NaN</td>\n",
       "      <td>NaN</td>\n",
       "      <td>NaN</td>\n",
       "      <td>315.0</td>\n",
       "    </tr>\n",
       "    <tr>\n",
       "      <th>3</th>\n",
       "      <td>0</td>\n",
       "      <td>50.0</td>\n",
       "      <td>1.0</td>\n",
       "      <td>18132</td>\n",
       "      <td>567.0</td>\n",
       "      <td>150.0</td>\n",
       "      <td>2.0</td>\n",
       "      <td>117.0</td>\n",
       "      <td>2.0</td>\n",
       "      <td>476.0</td>\n",
       "      <td>...</td>\n",
       "      <td>NaN</td>\n",
       "      <td>NaN</td>\n",
       "      <td>NaN</td>\n",
       "      <td>NaN</td>\n",
       "      <td>84.0</td>\n",
       "      <td>NaN</td>\n",
       "      <td>NaN</td>\n",
       "      <td>NaN</td>\n",
       "      <td>NaN</td>\n",
       "      <td>111.0</td>\n",
       "    </tr>\n",
       "    <tr>\n",
       "      <th>4</th>\n",
       "      <td>0</td>\n",
       "      <td>50.0</td>\n",
       "      <td>2.0</td>\n",
       "      <td>4497</td>\n",
       "      <td>514.0</td>\n",
       "      <td>150.0</td>\n",
       "      <td>2.0</td>\n",
       "      <td>102.0</td>\n",
       "      <td>1.0</td>\n",
       "      <td>420.0</td>\n",
       "      <td>...</td>\n",
       "      <td>NaN</td>\n",
       "      <td>NaN</td>\n",
       "      <td>NaN</td>\n",
       "      <td>NaN</td>\n",
       "      <td>NaN</td>\n",
       "      <td>NaN</td>\n",
       "      <td>NaN</td>\n",
       "      <td>NaN</td>\n",
       "      <td>NaN</td>\n",
       "      <td>NaN</td>\n",
       "    </tr>\n",
       "  </tbody>\n",
       "</table>\n",
       "<p>5 rows × 44 columns</p>\n",
       "</div>"
      ],
      "text/plain": [
       "   isFraud  TransactionAmt  ProductCD  card1  card2  card3  card4  card5  \\\n",
       "0        0            68.5        1.0  13926    NaN  150.0    1.0  142.0   \n",
       "1        0            29.0        1.0   2755  404.0  150.0    2.0  102.0   \n",
       "2        0            59.0        1.0   4663  490.0  150.0    3.0  166.0   \n",
       "3        0            50.0        1.0  18132  567.0  150.0    2.0  117.0   \n",
       "4        0            50.0        2.0   4497  514.0  150.0    2.0  102.0   \n",
       "\n",
       "   card6  addr1  ...  D6  D7  D8  D9   D10    D11  D12  D13  D14    D15  \n",
       "0    1.0  315.0  ... NaN NaN NaN NaN  13.0   13.0  NaN  NaN  NaN    0.0  \n",
       "1    1.0  325.0  ... NaN NaN NaN NaN   0.0    NaN  NaN  NaN  NaN    0.0  \n",
       "2    2.0  330.0  ... NaN NaN NaN NaN   0.0  315.0  NaN  NaN  NaN  315.0  \n",
       "3    2.0  476.0  ... NaN NaN NaN NaN  84.0    NaN  NaN  NaN  NaN  111.0  \n",
       "4    1.0  420.0  ... NaN NaN NaN NaN   NaN    NaN  NaN  NaN  NaN    NaN  \n",
       "\n",
       "[5 rows x 44 columns]"
      ]
     },
     "execution_count": 7,
     "metadata": {},
     "output_type": "execute_result"
    }
   ],
   "source": [
    "# Encode categorical features as integer\n",
    "\n",
    "from category_encoders import OrdinalEncoder                                                  \n",
    "\n",
    "ordinal_encoder = OrdinalEncoder(cols = categorical_features, handle_missing='return_nan')    \n",
    "\n",
    "transaction = ordinal_encoder.fit_transform(transaction)\n",
    "\n",
    "transaction.head()"
   ]
  },
  {
   "cell_type": "markdown",
   "metadata": {},
   "source": [
    "### Split the Data"
   ]
  },
  {
   "cell_type": "code",
   "execution_count": 8,
   "metadata": {},
   "outputs": [],
   "source": [
    "X = transaction.drop(['isFraud'],axis=1)  # Indepedent variable\n",
    "\n",
    "y = transaction['isFraud']                # Dependent variable"
   ]
  },
  {
   "cell_type": "code",
   "execution_count": 9,
   "metadata": {},
   "outputs": [
    {
     "data": {
      "text/plain": [
       "array([0, 1], dtype=int64)"
      ]
     },
     "execution_count": 9,
     "metadata": {},
     "output_type": "execute_result"
    }
   ],
   "source": [
    "# Verify output\n",
    "y.unique()"
   ]
  },
  {
   "cell_type": "code",
   "execution_count": 10,
   "metadata": {},
   "outputs": [
    {
     "data": {
      "text/plain": [
       "0.03499000914417313"
      ]
     },
     "execution_count": 10,
     "metadata": {},
     "output_type": "execute_result"
    }
   ],
   "source": [
    "# Lets see how imbalance is this dataset looking for y=1:\n",
    "sum(y) / len(y)"
   ]
  },
  {
   "cell_type": "code",
   "execution_count": 11,
   "metadata": {
    "colab": {},
    "colab_type": "code",
    "id": "dNVFNs6N65S4"
   },
   "outputs": [],
   "source": [
    "# Split in Training data and Test data\n",
    "\n",
    "from sklearn.model_selection import train_test_split\n",
    "\n",
    "X_train, X_test, y_train, y_test = train_test_split( X, y, test_size=0.3, stratify=y)"
   ]
  },
  {
   "cell_type": "code",
   "execution_count": 12,
   "metadata": {},
   "outputs": [
    {
     "name": "stdout",
     "output_type": "stream",
     "text": [
      "0.034989767234831076\n",
      "0.03499057359930459\n"
     ]
    }
   ],
   "source": [
    "# Let's see if stratify worked as expected, creating groups with the same proportion of 1's and 0's.\n",
    "\n",
    "print(sum(y_train) / len(y_train))\n",
    "print(sum(y_test) / len(y_test))"
   ]
  },
  {
   "cell_type": "markdown",
   "metadata": {},
   "source": [
    "### Build LGBM Model"
   ]
  },
  {
   "cell_type": "code",
   "execution_count": 13,
   "metadata": {
    "colab": {},
    "colab_type": "code",
    "id": "-K6vrc5d1Njl"
   },
   "outputs": [
    {
     "name": "stdout",
     "output_type": "stream",
     "text": [
      "[1]\tvalid_0's binary_logloss: 0.129141\n",
      "Training until validation scores don't improve for 10 rounds\n",
      "[2]\tvalid_0's binary_logloss: 0.124191\n",
      "[3]\tvalid_0's binary_logloss: 0.119762\n",
      "[4]\tvalid_0's binary_logloss: 0.116397\n",
      "[5]\tvalid_0's binary_logloss: 0.113785\n",
      "[6]\tvalid_0's binary_logloss: 0.111453\n",
      "[7]\tvalid_0's binary_logloss: 0.109471\n",
      "[8]\tvalid_0's binary_logloss: 0.107641\n",
      "[9]\tvalid_0's binary_logloss: 0.106084\n",
      "[10]\tvalid_0's binary_logloss: 0.104592\n",
      "[11]\tvalid_0's binary_logloss: 0.103349\n",
      "[12]\tvalid_0's binary_logloss: 0.102175\n",
      "[13]\tvalid_0's binary_logloss: 0.101162\n",
      "[14]\tvalid_0's binary_logloss: 0.100035\n",
      "[15]\tvalid_0's binary_logloss: 0.0992598\n",
      "[16]\tvalid_0's binary_logloss: 0.0984187\n",
      "[17]\tvalid_0's binary_logloss: 0.0975969\n",
      "[18]\tvalid_0's binary_logloss: 0.0968483\n",
      "[19]\tvalid_0's binary_logloss: 0.0962195\n",
      "[20]\tvalid_0's binary_logloss: 0.0956469\n",
      "[21]\tvalid_0's binary_logloss: 0.0952348\n",
      "[22]\tvalid_0's binary_logloss: 0.0946864\n",
      "[23]\tvalid_0's binary_logloss: 0.0942129\n",
      "[24]\tvalid_0's binary_logloss: 0.0938\n",
      "[25]\tvalid_0's binary_logloss: 0.0934008\n",
      "[26]\tvalid_0's binary_logloss: 0.0930458\n",
      "[27]\tvalid_0's binary_logloss: 0.09258\n",
      "[28]\tvalid_0's binary_logloss: 0.0920593\n",
      "[29]\tvalid_0's binary_logloss: 0.0915948\n",
      "[30]\tvalid_0's binary_logloss: 0.09122\n",
      "[31]\tvalid_0's binary_logloss: 0.0909773\n",
      "[32]\tvalid_0's binary_logloss: 0.0905362\n",
      "[33]\tvalid_0's binary_logloss: 0.0901568\n",
      "[34]\tvalid_0's binary_logloss: 0.0898815\n",
      "[35]\tvalid_0's binary_logloss: 0.0896251\n",
      "[36]\tvalid_0's binary_logloss: 0.0892742\n",
      "[37]\tvalid_0's binary_logloss: 0.088697\n",
      "[38]\tvalid_0's binary_logloss: 0.0883985\n",
      "[39]\tvalid_0's binary_logloss: 0.0881556\n",
      "[40]\tvalid_0's binary_logloss: 0.0879205\n",
      "[41]\tvalid_0's binary_logloss: 0.0874888\n",
      "[42]\tvalid_0's binary_logloss: 0.0872144\n",
      "[43]\tvalid_0's binary_logloss: 0.0870531\n",
      "[44]\tvalid_0's binary_logloss: 0.0867068\n",
      "[45]\tvalid_0's binary_logloss: 0.0865068\n",
      "[46]\tvalid_0's binary_logloss: 0.0862857\n",
      "[47]\tvalid_0's binary_logloss: 0.0860657\n",
      "[48]\tvalid_0's binary_logloss: 0.0859305\n",
      "[49]\tvalid_0's binary_logloss: 0.0857459\n",
      "[50]\tvalid_0's binary_logloss: 0.0855913\n",
      "[51]\tvalid_0's binary_logloss: 0.0853826\n",
      "[52]\tvalid_0's binary_logloss: 0.0852064\n",
      "[53]\tvalid_0's binary_logloss: 0.0850424\n",
      "[54]\tvalid_0's binary_logloss: 0.0848477\n",
      "[55]\tvalid_0's binary_logloss: 0.0845987\n",
      "[56]\tvalid_0's binary_logloss: 0.0844327\n",
      "[57]\tvalid_0's binary_logloss: 0.0842223\n",
      "[58]\tvalid_0's binary_logloss: 0.0839865\n",
      "[59]\tvalid_0's binary_logloss: 0.0838479\n",
      "[60]\tvalid_0's binary_logloss: 0.0837029\n",
      "[61]\tvalid_0's binary_logloss: 0.0835396\n",
      "[62]\tvalid_0's binary_logloss: 0.0833501\n",
      "[63]\tvalid_0's binary_logloss: 0.0831593\n",
      "[64]\tvalid_0's binary_logloss: 0.0829284\n",
      "[65]\tvalid_0's binary_logloss: 0.0827985\n",
      "[66]\tvalid_0's binary_logloss: 0.0826779\n",
      "[67]\tvalid_0's binary_logloss: 0.0825123\n",
      "[68]\tvalid_0's binary_logloss: 0.0823474\n",
      "[69]\tvalid_0's binary_logloss: 0.0821724\n",
      "[70]\tvalid_0's binary_logloss: 0.0820398\n",
      "[71]\tvalid_0's binary_logloss: 0.0819476\n",
      "[72]\tvalid_0's binary_logloss: 0.0818245\n",
      "[73]\tvalid_0's binary_logloss: 0.0817143\n",
      "[74]\tvalid_0's binary_logloss: 0.0816113\n",
      "[75]\tvalid_0's binary_logloss: 0.0814575\n",
      "[76]\tvalid_0's binary_logloss: 0.0813188\n",
      "[77]\tvalid_0's binary_logloss: 0.0811869\n",
      "[78]\tvalid_0's binary_logloss: 0.0810676\n",
      "[79]\tvalid_0's binary_logloss: 0.0809673\n",
      "[80]\tvalid_0's binary_logloss: 0.0809028\n",
      "[81]\tvalid_0's binary_logloss: 0.0808053\n",
      "[82]\tvalid_0's binary_logloss: 0.0807394\n",
      "[83]\tvalid_0's binary_logloss: 0.0806979\n",
      "[84]\tvalid_0's binary_logloss: 0.0805852\n",
      "[85]\tvalid_0's binary_logloss: 0.0805069\n",
      "[86]\tvalid_0's binary_logloss: 0.0804209\n",
      "[87]\tvalid_0's binary_logloss: 0.0804572\n",
      "[88]\tvalid_0's binary_logloss: 0.0803236\n",
      "[89]\tvalid_0's binary_logloss: 0.0802403\n",
      "[90]\tvalid_0's binary_logloss: 0.0801366\n",
      "[91]\tvalid_0's binary_logloss: 0.0800866\n",
      "[92]\tvalid_0's binary_logloss: 0.0800258\n",
      "[93]\tvalid_0's binary_logloss: 0.0799239\n",
      "[94]\tvalid_0's binary_logloss: 0.0798455\n",
      "[95]\tvalid_0's binary_logloss: 0.0797638\n",
      "[96]\tvalid_0's binary_logloss: 0.0796747\n",
      "[97]\tvalid_0's binary_logloss: 0.0795284\n",
      "[98]\tvalid_0's binary_logloss: 0.0794331\n",
      "[99]\tvalid_0's binary_logloss: 0.0792776\n",
      "[100]\tvalid_0's binary_logloss: 0.0792202\n",
      "Did not meet early stopping. Best iteration is:\n",
      "[100]\tvalid_0's binary_logloss: 0.0792202\n"
     ]
    },
    {
     "data": {
      "text/plain": [
       "LGBMClassifier()"
      ]
     },
     "execution_count": 13,
     "metadata": {},
     "output_type": "execute_result"
    }
   ],
   "source": [
    "from lightgbm import LGBMClassifier  # Import library\n",
    "\n",
    "model = LGBMClassifier()             # Create shell\n",
    "\n",
    "model.fit(X_train,     # Training data\n",
    "          y_train,     # Training data\n",
    "          verbose=True,                 # Verbosity of printing messages\n",
    "          early_stopping_rounds=10,     # After 10 trees without improvement, stop (avoid overfitting)\n",
    "          eval_metric='aucpr',          # Area under the PR curve\n",
    "          eval_set=[(X_test,y_test)])   # Train with the train dataset, but evaluete the how many trees with the test dataset "
   ]
  },
  {
   "cell_type": "code",
   "execution_count": 14,
   "metadata": {
    "colab": {},
    "colab_type": "code",
    "id": "BMG62N6t9fHB"
   },
   "outputs": [],
   "source": [
    "# Make Predictions\n",
    "predictions = model.predict(X_test)"
   ]
  },
  {
   "cell_type": "markdown",
   "metadata": {},
   "source": [
    "### Results obtained"
   ]
  },
  {
   "cell_type": "code",
   "execution_count": 15,
   "metadata": {
    "colab": {},
    "colab_type": "code",
    "id": "FTBCF4ES9NNj"
   },
   "outputs": [],
   "source": [
    "from sklearn.metrics import classification_report, confusion_matrix,accuracy_score"
   ]
  },
  {
   "cell_type": "code",
   "execution_count": 16,
   "metadata": {
    "colab": {
     "base_uri": "https://localhost:8080/",
     "height": 34
    },
    "colab_type": "code",
    "id": "S_ZLZHYS9So7",
    "outputId": "eaf2ee9c-9868-49fd-cc86-33b3d5cf8c20"
   },
   "outputs": [
    {
     "data": {
      "text/plain": [
       "0.9772242354455244"
      ]
     },
     "execution_count": 16,
     "metadata": {},
     "output_type": "execute_result"
    }
   ],
   "source": [
    "accuracy_score(predictions, y_test)"
   ]
  },
  {
   "cell_type": "code",
   "execution_count": 17,
   "metadata": {
    "colab": {
     "base_uri": "https://localhost:8080/",
     "height": 51
    },
    "colab_type": "code",
    "id": "FFWn9s1p9U0k",
    "outputId": "16308cfa-3206-44f6-d4b3-1c1bead8b57f"
   },
   "outputs": [
    {
     "data": {
      "text/plain": [
       "array([[170601,   3673],\n",
       "       [   362,   2526]], dtype=int64)"
      ]
     },
     "execution_count": 17,
     "metadata": {},
     "output_type": "execute_result"
    }
   ],
   "source": [
    "confusion_matrix(predictions, y_test)"
   ]
  },
  {
   "cell_type": "code",
   "execution_count": 18,
   "metadata": {
    "colab": {},
    "colab_type": "code",
    "id": "yVxF6bwn9XFh"
   },
   "outputs": [],
   "source": [
    "from sklearn.metrics import plot_confusion_matrix"
   ]
  },
  {
   "cell_type": "code",
   "execution_count": 19,
   "metadata": {},
   "outputs": [
    {
     "data": {
      "text/plain": [
       "<sklearn.metrics._plot.confusion_matrix.ConfusionMatrixDisplay at 0x1620382b280>"
      ]
     },
     "execution_count": 19,
     "metadata": {},
     "output_type": "execute_result"
    },
    {
     "data": {
      "image/png": "[encoded data removed]",
      "text/plain": [
       "<Figure size 432x288 with 2 Axes>"
      ]
     },
     "metadata": {
      "needs_background": "light"
     },
     "output_type": "display_data"
    }
   ],
   "source": [
    "# Plot Confusion Matrix\n",
    "\n",
    "plot_confusion_matrix(model,              # estimator\n",
    "                      X_test,             # X\n",
    "                      y_test,             # y-true\n",
    "                      values_format='d',\n",
    "                      display_labels=['Not Fraud', 'Fraud'])"
   ]
  },
  {
   "cell_type": "code",
   "execution_count": 20,
   "metadata": {
    "colab": {
     "base_uri": "https://localhost:8080/",
     "height": 170
    },
    "colab_type": "code",
    "id": "Abnh-5jb9dvi",
    "outputId": "e5cdfe8d-58f8-470e-8378-fbc05494b04b"
   },
   "outputs": [
    {
     "name": "stdout",
     "output_type": "stream",
     "text": [
      "              precision    recall  f1-score   support\n",
      "\n",
      "           0       1.00      0.98      0.99    174274\n",
      "           1       0.41      0.87      0.56      2888\n",
      "\n",
      "    accuracy                           0.98    177162\n",
      "   macro avg       0.70      0.93      0.77    177162\n",
      "weighted avg       0.99      0.98      0.98    177162\n",
      "\n"
     ]
    }
   ],
   "source": [
    "print(classification_report(predictions, y_test))"
   ]
  }
 ],
 "metadata": {
  "accelerator": "TPU",
  "colab": {
   "collapsed_sections": [],
   "name": "LightGBMClassifier.ipynb",
   "provenance": [],
   "toc_visible": true
  },
  "kernelspec": {
   "display_name": "Python 3",
   "language": "python",
   "name": "python3"
  },
  "language_info": {
   "codemirror_mode": {
    "name": "ipython",
    "version": 3
   },
   "file_extension": ".py",
   "mimetype": "text/x-python",
   "name": "python",
   "nbconvert_exporter": "python",
   "pygments_lexer": "ipython3",
   "version": "3.8.5"
  }
 },
 "nbformat": 4,
 "nbformat_minor": 4
}
